{
 "cells": [
  {
   "cell_type": "code",
   "execution_count": 13,
   "id": "fdd56638",
   "metadata": {},
   "outputs": [
    {
     "name": "stdout",
     "output_type": "stream",
     "text": [
      "Input sentence: Which course should I take to get started in data science?\n",
      "Formal paraphrase: What is the best course for data science?\n",
      "Informal paraphrase: What is the best way to learn data science?\n",
      "Creative paraphrase: What is the best way to learn data science?\n",
      "Expanded paraphrase: What is the best course for data science?\n",
      "Shortened paraphrase: What is the best course to learn data science?\n"
     ]
    }
   ],
   "source": [
    "import torch\n",
    "import transformers\n",
    "\n",
    "# Load the T5 model\n",
    "model_name = 't5-base'\n",
    "tokenizer = transformers.AutoTokenizer.from_pretrained('ramsrigouthamg/t5_paraphraser')\n",
    "model = transformers.AutoModelForSeq2SeqLM.from_pretrained('ramsrigouthamg/t5_paraphraser')\n",
    "\n",
    "# Define the paraphrase categories\n",
    "categories = {\n",
    "    'Formal': 'paraphrase formal: ',\n",
    "    'Informal': 'paraphrase informal: ',\n",
    "    'Creative': 'paraphrase creative: ',\n",
    "    'Expanded': 'paraphrase expanded: ',\n",
    "    'Shortened': 'paraphrase shortened: ',\n",
    "}\n",
    "\n",
    "# Function to generate paraphrases for a given input sentence\n",
    "def generate_paraphrases(input_sentence):\n",
    "    paraphrases = {}\n",
    "    for category, prefix in categories.items():\n",
    "        # Construct the input prompt by adding the category prefix to the input sentence\n",
    "        prompt = prefix + input_sentence.strip() + \" </s>\"\n",
    "        # Tokenize the prompt and generate paraphrases using the T5 model\n",
    "        input_ids = tokenizer.encode(prompt, return_tensors='pt')\n",
    "        output = model.generate(input_ids=input_ids, max_length=100, num_beams=5, early_stopping=True)\n",
    "        paraphrase = tokenizer.decode(output[0], skip_special_tokens=True)\n",
    "        # Store the generated paraphrase in the dictionary\n",
    "        paraphrases[category] = paraphrase\n",
    "    return paraphrases\n",
    "\n",
    "# Example usage\n",
    "input_sentence = \"Which course should I take to get started in data science?\"\n",
    "paraphrases = generate_paraphrases(input_sentence)\n",
    "print(\"Input sentence:\", input_sentence)\n",
    "for category, paraphrase in paraphrases.items():\n",
    "    print(f\"{category} paraphrase:\", paraphrase)\n"
   ]
  },
  {
   "cell_type": "code",
   "execution_count": null,
   "id": "b46cc8b8",
   "metadata": {},
   "outputs": [],
   "source": []
  }
 ],
 "metadata": {
  "kernelspec": {
   "display_name": "Python 3 (ipykernel)",
   "language": "python",
   "name": "python3"
  },
  "language_info": {
   "codemirror_mode": {
    "name": "ipython",
    "version": 3
   },
   "file_extension": ".py",
   "mimetype": "text/x-python",
   "name": "python",
   "nbconvert_exporter": "python",
   "pygments_lexer": "ipython3",
   "version": "3.9.13"
  }
 },
 "nbformat": 4,
 "nbformat_minor": 5
}
