{
 "cells": [
  {
   "cell_type": "code",
   "execution_count": 11,
   "id": "364cd68b",
   "metadata": {},
   "outputs": [
    {
     "name": "stdout",
     "output_type": "stream",
     "text": [
      "Input sentence: Which course should I take to get started in data science?\n",
      "Formal paraphrase: What is the best course to start learning data science?\n",
      "Informal paraphrase: What is the easiest course to take for data science?\n",
      "Creative paraphrase: What is the best way to get started in data science?\n",
      "Expanded paraphrase: What is the best course for data science?\n",
      "Shortened paraphrase: Which course should I take to get started in data science?\n"
     ]
    }
   ],
   "source": [
    "import random\n",
    "import torch\n",
    "import transformers\n",
    "\n",
    "# Load the T5 model and tokenizer\n",
    "model_name = 'ramsrigouthamg/t5_paraphraser'\n",
    "tokenizer = transformers.AutoTokenizer.from_pretrained('ramsrigouthamg/t5_paraphraser')\n",
    "model = transformers.AutoModelForSeq2SeqLM.from_pretrained('ramsrigouthamg/t5_paraphraser')\n",
    "\n",
    "# Define the paraphrase categories\n",
    "categories = {\n",
    "    'Formal': 'paraphrase formal: ',\n",
    "    'Informal': 'paraphrase informal: ',\n",
    "    'Creative': 'paraphrase creative: ',\n",
    "    'Expanded': 'paraphrase expanded: ',\n",
    "    'Shortened': 'paraphrase shortened: ',\n",
    "}\n",
    "\n",
    "# Define a list of prompts for each category\n",
    "prompts = {\n",
    "    'Formal': ['What is the best course for data science?',\n",
    "               'Which is the most suitable course to take to learn data science?',\n",
    "               'What is the optimal course to enroll in to start learning data science?'],\n",
    "    'Informal': ['What is the best way to learn data science?',\n",
    "                 'What is the easiest course to take for data science?',\n",
    "                 'What is the most fun way to start learning data science?'],\n",
    "    'Creative': ['What is the best way to become a data science ninja?',\n",
    "                 'What is the most efficient way to become a data science wizard?',\n",
    "                 'What is the quickest way to master data science?'],\n",
    "    'Expanded': ['What is the best course for data science that I should take to get started?',\n",
    "                 'Which course for data science would be the most helpful for me to enroll in?',\n",
    "                 'What is the top-rated course for data science that I should consider taking?'],\n",
    "    'Shortened': ['What is the best course to learn data science?',\n",
    "                  'Which course is the best for data science?',\n",
    "                  'What is the top course for learning data science?']\n",
    "}\n",
    "\n",
    "# Function to generate paraphrases for a given input sentence\n",
    "def generate_paraphrases(input_sentence):\n",
    "    paraphrases = {}\n",
    "    input_sentence = input_sentence.strip()\n",
    "    for category in categories.keys():\n",
    "        prompt = random.choice(prompts[category])\n",
    "        input_text = prompt.replace('data science', input_sentence)\n",
    "        input_ids = tokenizer.encode(input_text, return_tensors='pt')\n",
    "        output_ids = model.generate(input_ids, max_length=50, num_beams=5, early_stopping=True)\n",
    "        paraphrase = tokenizer.decode(output_ids[0], skip_special_tokens=True)\n",
    "        paraphrases[category] = paraphrase\n",
    "    return paraphrases\n",
    "\n",
    "# Example usage\n",
    "input_sentence = \"Which course should I take to get started in data science?\"\n",
    "paraphrases = generate_paraphrases(input_sentence)\n",
    "print(\"Input sentence:\", input_sentence)\n",
    "for category, paraphrase in paraphrases.items():\n",
    "    print(f\"{category} paraphrase:\", paraphrase)\n"
   ]
  },
  {
   "cell_type": "code",
   "execution_count": null,
   "id": "5c1c288a",
   "metadata": {},
   "outputs": [],
   "source": []
  }
 ],
 "metadata": {
  "kernelspec": {
   "display_name": "Python 3 (ipykernel)",
   "language": "python",
   "name": "python3"
  },
  "language_info": {
   "codemirror_mode": {
    "name": "ipython",
    "version": 3
   },
   "file_extension": ".py",
   "mimetype": "text/x-python",
   "name": "python",
   "nbconvert_exporter": "python",
   "pygments_lexer": "ipython3",
   "version": "3.9.13"
  }
 },
 "nbformat": 4,
 "nbformat_minor": 5
}
